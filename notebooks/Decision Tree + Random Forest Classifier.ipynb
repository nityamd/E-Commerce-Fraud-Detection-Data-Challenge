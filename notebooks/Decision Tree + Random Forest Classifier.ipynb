{
 "cells": [
  {
   "cell_type": "code",
   "execution_count": 1,
   "metadata": {},
   "outputs": [],
   "source": [
    "#Notebook preferences\n",
    "import warnings\n",
    "warnings.filterwarnings('ignore')\n",
    "from IPython.display import display, HTML\n",
    "\n",
    "import pandas as pd\n",
    "import numpy as np\n",
    "import matplotlib.pyplot as plt\n",
    "from matplotlib import rcParams\n",
    "import seaborn as sns\n",
    "import sklearn\n",
    "import os\n",
    "\n",
    "\n",
    "rcParams[\"font.family\"] = \"sans-serif\"\n",
    "rcParams[\"font.sans-serif\"] = [\"Computer Modern Sans\"]\n",
    "rcParams[\"text.usetex\"] = False\n",
    "rcParams[\"text.latex.preamble\"] = r\"\\usepackage{cmbright}\"\n",
    "rcParams['xtick.major.pad']='10'\n",
    "rcParams['ytick.major.pad']='10'\n",
    "rcParams['font.size'] = 22\n",
    "rcParams['axes.labelsize'] = 22\n",
    "rcParams['axes.labelweight'] = 'bold'\n",
    "rcParams['axes.titlesize'] = 20\n",
    "rcParams['xtick.labelsize'] = 17\n",
    "rcParams['ytick.labelsize'] = 17\n",
    "rcParams['legend.fontsize'] = 15\n",
    "rcParams['figure.titlesize'] = 20"
   ]
  },
  {
   "cell_type": "code",
   "execution_count": 2,
   "metadata": {},
   "outputs": [],
   "source": [
    "from sklearn.preprocessing import OneHotEncoder\n",
    "from sklearn.model_selection import train_test_split\n",
    "from sklearn.linear_model import LogisticRegression\n",
    "from sklearn.model_selection import StratifiedKFold, GridSearchCV\n",
    "from sklearn.metrics import accuracy_score, f1_score, precision_score, \\\n",
    "                            recall_score, classification_report, make_scorer,  \\\n",
    "                            confusion_matrix\n",
    "from sklearn.ensemble import RandomForestClassifier, AdaBoostClassifier, \\\n",
    "                                GradientBoostingClassifier\n",
    "from imblearn.over_sampling import SMOTE "
   ]
  },
  {
   "cell_type": "code",
   "execution_count": 42,
   "metadata": {},
   "outputs": [],
   "source": [
    "df = pd.read_csv('../../Fraud/features.csv', index_col = 0)"
   ]
  },
  {
   "cell_type": "code",
   "execution_count": 43,
   "metadata": {},
   "outputs": [
    {
     "data": {
      "text/html": [
       "<div>\n",
       "<style scoped>\n",
       "    .dataframe tbody tr th:only-of-type {\n",
       "        vertical-align: middle;\n",
       "    }\n",
       "\n",
       "    .dataframe tbody tr th {\n",
       "        vertical-align: top;\n",
       "    }\n",
       "\n",
       "    .dataframe thead th {\n",
       "        text-align: right;\n",
       "    }\n",
       "</style>\n",
       "<table border=\"1\" class=\"dataframe\">\n",
       "  <thead>\n",
       "    <tr style=\"text-align: right;\">\n",
       "      <th></th>\n",
       "      <th>purchase_value</th>\n",
       "      <th>age</th>\n",
       "      <th>class</th>\n",
       "      <th>risk_score</th>\n",
       "      <th>lagsecs</th>\n",
       "      <th>purchase_hour</th>\n",
       "      <th>freqdevice</th>\n",
       "      <th>sex_F</th>\n",
       "      <th>sex_M</th>\n",
       "      <th>source_Ads</th>\n",
       "      <th>source_Direct</th>\n",
       "      <th>source_SEO</th>\n",
       "      <th>browser_Chrome</th>\n",
       "      <th>browser_FireFox</th>\n",
       "      <th>browser_IE</th>\n",
       "    </tr>\n",
       "  </thead>\n",
       "  <tbody>\n",
       "    <tr>\n",
       "      <th>0</th>\n",
       "      <td>34</td>\n",
       "      <td>39</td>\n",
       "      <td>0</td>\n",
       "      <td>2</td>\n",
       "      <td>4506682.0</td>\n",
       "      <td>22</td>\n",
       "      <td>1</td>\n",
       "      <td>0</td>\n",
       "      <td>1</td>\n",
       "      <td>0</td>\n",
       "      <td>0</td>\n",
       "      <td>1</td>\n",
       "      <td>1</td>\n",
       "      <td>0</td>\n",
       "      <td>0</td>\n",
       "    </tr>\n",
       "    <tr>\n",
       "      <th>1</th>\n",
       "      <td>72</td>\n",
       "      <td>32</td>\n",
       "      <td>0</td>\n",
       "      <td>2</td>\n",
       "      <td>5959702.0</td>\n",
       "      <td>18</td>\n",
       "      <td>1</td>\n",
       "      <td>1</td>\n",
       "      <td>0</td>\n",
       "      <td>0</td>\n",
       "      <td>1</td>\n",
       "      <td>0</td>\n",
       "      <td>1</td>\n",
       "      <td>0</td>\n",
       "      <td>0</td>\n",
       "    </tr>\n",
       "    <tr>\n",
       "      <th>2</th>\n",
       "      <td>52</td>\n",
       "      <td>44</td>\n",
       "      <td>0</td>\n",
       "      <td>2</td>\n",
       "      <td>662649.0</td>\n",
       "      <td>12</td>\n",
       "      <td>1</td>\n",
       "      <td>1</td>\n",
       "      <td>0</td>\n",
       "      <td>0</td>\n",
       "      <td>1</td>\n",
       "      <td>0</td>\n",
       "      <td>1</td>\n",
       "      <td>0</td>\n",
       "      <td>0</td>\n",
       "    </tr>\n",
       "    <tr>\n",
       "      <th>3</th>\n",
       "      <td>22</td>\n",
       "      <td>36</td>\n",
       "      <td>0</td>\n",
       "      <td>2</td>\n",
       "      <td>3062448.0</td>\n",
       "      <td>9</td>\n",
       "      <td>1</td>\n",
       "      <td>0</td>\n",
       "      <td>1</td>\n",
       "      <td>1</td>\n",
       "      <td>0</td>\n",
       "      <td>0</td>\n",
       "      <td>1</td>\n",
       "      <td>0</td>\n",
       "      <td>0</td>\n",
       "    </tr>\n",
       "    <tr>\n",
       "      <th>4</th>\n",
       "      <td>32</td>\n",
       "      <td>37</td>\n",
       "      <td>0</td>\n",
       "      <td>2</td>\n",
       "      <td>6541411.0</td>\n",
       "      <td>22</td>\n",
       "      <td>2</td>\n",
       "      <td>0</td>\n",
       "      <td>1</td>\n",
       "      <td>0</td>\n",
       "      <td>0</td>\n",
       "      <td>1</td>\n",
       "      <td>0</td>\n",
       "      <td>1</td>\n",
       "      <td>0</td>\n",
       "    </tr>\n",
       "  </tbody>\n",
       "</table>\n",
       "</div>"
      ],
      "text/plain": [
       "   purchase_value  age  class  risk_score    lagsecs  purchase_hour  \\\n",
       "0              34   39      0           2  4506682.0             22   \n",
       "1              72   32      0           2  5959702.0             18   \n",
       "2              52   44      0           2   662649.0             12   \n",
       "3              22   36      0           2  3062448.0              9   \n",
       "4              32   37      0           2  6541411.0             22   \n",
       "\n",
       "   freqdevice  sex_F  sex_M  source_Ads  source_Direct  source_SEO  \\\n",
       "0           1      0      1           0              0           1   \n",
       "1           1      1      0           0              1           0   \n",
       "2           1      1      0           0              1           0   \n",
       "3           1      0      1           1              0           0   \n",
       "4           2      0      1           0              0           1   \n",
       "\n",
       "   browser_Chrome  browser_FireFox  browser_IE  \n",
       "0               1                0           0  \n",
       "1               1                0           0  \n",
       "2               1                0           0  \n",
       "3               1                0           0  \n",
       "4               0                1           0  "
      ]
     },
     "execution_count": 43,
     "metadata": {},
     "output_type": "execute_result"
    }
   ],
   "source": [
    "df.head()"
   ]
  },
  {
   "cell_type": "code",
   "execution_count": 44,
   "metadata": {},
   "outputs": [
    {
     "name": "stdout",
     "output_type": "stream",
     "text": [
      "143512\n"
     ]
    }
   ],
   "source": [
    "#df_flash = df[df[\"lagsecs\"]==1]\n",
    "df = df[df[\"lagsecs\"]!=1].drop(columns = ['lagsecs','source_Direct','source_SEO', 'source_Ads',\n",
    "                                         'browser_Chrome', 'browser_FireFox', 'browser_IE'])\n",
    "print(len(df))"
   ]
  },
  {
   "cell_type": "code",
   "execution_count": 34,
   "metadata": {},
   "outputs": [
    {
     "name": "stderr",
     "output_type": "stream",
     "text": [
      "No handles with labels found to put in legend.\n"
     ]
    },
    {
     "data": {
      "image/png": "[encoded data removed]",
      "text/plain": [
       "<Figure size 432x288 with 1 Axes>"
      ]
     },
     "metadata": {
      "needs_background": "light"
     },
     "output_type": "display_data"
    }
   ],
   "source": [
    "fig, ax = plt.subplots()\n",
    "df.groupby('class')['risk_score'].hist(ax=ax)\n",
    "ax.legend();"
   ]
  },
  {
   "cell_type": "code",
   "execution_count": 41,
   "metadata": {},
   "outputs": [
    {
     "name": "stderr",
     "output_type": "stream",
     "text": [
      "No handles with labels found to put in legend.\n"
     ]
    },
    {
     "data": {
      "image/png": "[encoded data removed]",
      "text/plain": [
       "<Figure size 1080x360 with 3 Axes>"
      ]
     },
     "metadata": {
      "needs_background": "light"
     },
     "output_type": "display_data"
    }
   ],
   "source": [
    "fig, (ax1, ax2, ax3) = plt.subplots(1,3,figsize = (15,5))\n",
    "df.groupby('class')['sex_F'].hist(ax=ax1)\n",
    "df.groupby('class')['sex_M'].hist(ax=ax2)\n",
    "df.groupby('class')['purchase_value'].hist(ax=ax3)\n",
    "ax.legend();"
   ]
  },
  {
   "cell_type": "code",
   "execution_count": 32,
   "metadata": {},
   "outputs": [
    {
     "data": {
      "text/plain": [
       "<matplotlib.axes._subplots.AxesSubplot at 0x1a253f88d0>"
      ]
     },
     "execution_count": 32,
     "metadata": {},
     "output_type": "execute_result"
    },
    {
     "data": {
      "image/png": "[encoded data removed]",
      "text/plain": [
       "<Figure size 432x288 with 1 Axes>"
      ]
     },
     "metadata": {
      "needs_background": "light"
     },
     "output_type": "display_data"
    }
   ],
   "source": [
    "df['purchase_value'].hist()"
   ]
  },
  {
   "cell_type": "code",
   "execution_count": 45,
   "metadata": {},
   "outputs": [],
   "source": [
    "X = df.drop(columns = ['class'])\n",
    "y = df['class']\n",
    "\n",
    "X_train, X_test, y_train, y_test = train_test_split(X, y,random_state = 43, test_size=0.2)"
   ]
  },
  {
   "cell_type": "code",
   "execution_count": 46,
   "metadata": {},
   "outputs": [
    {
     "name": "stdout",
     "output_type": "stream",
     "text": [
      "              precision    recall  f1-score   support\n",
      "\n",
      "           0       0.96      0.97      0.96     27379\n",
      "           1       0.14      0.12      0.13      1324\n",
      "\n",
      "   micro avg       0.93      0.93      0.93     28703\n",
      "   macro avg       0.55      0.54      0.54     28703\n",
      "weighted avg       0.92      0.93      0.92     28703\n",
      "\n",
      "[[26432   947]\n",
      " [ 1171   153]]\n"
     ]
    }
   ],
   "source": [
    "from sklearn.tree import DecisionTreeClassifier\n",
    "\n",
    "dc = DecisionTreeClassifier()\n",
    "dc.fit(X_train, y_train)\n",
    "y_pred = dc.predict(X_test)\n",
    "print(classification_report(y_test, y_pred))\n",
    "print(confusion_matrix(y_test, y_pred))"
   ]
  },
  {
   "cell_type": "code",
   "execution_count": 47,
   "metadata": {},
   "outputs": [
    {
     "name": "stderr",
     "output_type": "stream",
     "text": [
      "/Users/nitya/miniconda3/lib/python3.6/site-packages/sklearn/metrics/classification.py:1143: UndefinedMetricWarning: Precision and F-score are ill-defined and being set to 0.0 in labels with no predicted samples.\n",
      "  'precision', 'predicted', average, warn_for)\n",
      "/Users/nitya/miniconda3/lib/python3.6/site-packages/sklearn/metrics/classification.py:1143: UndefinedMetricWarning: Precision and F-score are ill-defined and being set to 0.0 in labels with no predicted samples.\n",
      "  'precision', 'predicted', average, warn_for)\n",
      "/Users/nitya/miniconda3/lib/python3.6/site-packages/sklearn/metrics/classification.py:1143: UndefinedMetricWarning: Precision and F-score are ill-defined and being set to 0.0 in labels with no predicted samples.\n",
      "  'precision', 'predicted', average, warn_for)\n",
      "/Users/nitya/miniconda3/lib/python3.6/site-packages/sklearn/metrics/classification.py:1143: UndefinedMetricWarning: Precision and F-score are ill-defined and being set to 0.0 in labels with no predicted samples.\n",
      "  'precision', 'predicted', average, warn_for)\n",
      "/Users/nitya/miniconda3/lib/python3.6/site-packages/sklearn/metrics/classification.py:1143: UndefinedMetricWarning: Precision and F-score are ill-defined and being set to 0.0 in labels with no predicted samples.\n",
      "  'precision', 'predicted', average, warn_for)\n",
      "/Users/nitya/miniconda3/lib/python3.6/site-packages/sklearn/metrics/classification.py:1143: UndefinedMetricWarning: Precision and F-score are ill-defined and being set to 0.0 in labels with no predicted samples.\n",
      "  'precision', 'predicted', average, warn_for)\n"
     ]
    },
    {
     "name": "stdout",
     "output_type": "stream",
     "text": [
      "              precision    recall  f1-score   support\n",
      "\n",
      "           0       0.95      1.00      0.98     27379\n",
      "           1       0.00      0.00      0.00      1324\n",
      "\n",
      "   micro avg       0.95      0.95      0.95     28703\n",
      "   macro avg       0.48      0.50      0.49     28703\n",
      "weighted avg       0.91      0.95      0.93     28703\n",
      "\n",
      "[[27379     0]\n",
      " [ 1324     0]]\n",
      "              precision    recall  f1-score   support\n",
      "\n",
      "           0       0.95      1.00      0.98     27379\n",
      "           1       0.00      0.00      0.00      1324\n",
      "\n",
      "   micro avg       0.95      0.95      0.95     28703\n",
      "   macro avg       0.48      0.50      0.49     28703\n",
      "weighted avg       0.91      0.95      0.93     28703\n",
      "\n",
      "[[27379     0]\n",
      " [ 1324     0]]\n"
     ]
    },
    {
     "name": "stderr",
     "output_type": "stream",
     "text": [
      "/Users/nitya/miniconda3/lib/python3.6/site-packages/sklearn/metrics/classification.py:1143: UndefinedMetricWarning: Precision and F-score are ill-defined and being set to 0.0 in labels with no predicted samples.\n",
      "  'precision', 'predicted', average, warn_for)\n",
      "/Users/nitya/miniconda3/lib/python3.6/site-packages/sklearn/metrics/classification.py:1143: UndefinedMetricWarning: Precision and F-score are ill-defined and being set to 0.0 in labels with no predicted samples.\n",
      "  'precision', 'predicted', average, warn_for)\n",
      "/Users/nitya/miniconda3/lib/python3.6/site-packages/sklearn/metrics/classification.py:1143: UndefinedMetricWarning: Precision and F-score are ill-defined and being set to 0.0 in labels with no predicted samples.\n",
      "  'precision', 'predicted', average, warn_for)\n",
      "/Users/nitya/miniconda3/lib/python3.6/site-packages/sklearn/metrics/classification.py:1143: UndefinedMetricWarning: Precision and F-score are ill-defined and being set to 0.0 in labels with no predicted samples.\n",
      "  'precision', 'predicted', average, warn_for)\n",
      "/Users/nitya/miniconda3/lib/python3.6/site-packages/sklearn/metrics/classification.py:1143: UndefinedMetricWarning: Precision and F-score are ill-defined and being set to 0.0 in labels with no predicted samples.\n",
      "  'precision', 'predicted', average, warn_for)\n",
      "/Users/nitya/miniconda3/lib/python3.6/site-packages/sklearn/metrics/classification.py:1143: UndefinedMetricWarning: Precision and F-score are ill-defined and being set to 0.0 in labels with no predicted samples.\n",
      "  'precision', 'predicted', average, warn_for)\n"
     ]
    },
    {
     "name": "stdout",
     "output_type": "stream",
     "text": [
      "              precision    recall  f1-score   support\n",
      "\n",
      "           0       0.95      1.00      0.98     27379\n",
      "           1       0.00      0.00      0.00      1324\n",
      "\n",
      "   micro avg       0.95      0.95      0.95     28703\n",
      "   macro avg       0.48      0.50      0.49     28703\n",
      "weighted avg       0.91      0.95      0.93     28703\n",
      "\n",
      "[[27379     0]\n",
      " [ 1324     0]]\n",
      "              precision    recall  f1-score   support\n",
      "\n",
      "           0       0.95      1.00      0.98     27379\n",
      "           1       0.00      0.00      0.00      1324\n",
      "\n",
      "   micro avg       0.95      0.95      0.95     28703\n",
      "   macro avg       0.48      0.50      0.49     28703\n",
      "weighted avg       0.91      0.95      0.93     28703\n",
      "\n",
      "[[27379     0]\n",
      " [ 1324     0]]\n"
     ]
    },
    {
     "name": "stderr",
     "output_type": "stream",
     "text": [
      "/Users/nitya/miniconda3/lib/python3.6/site-packages/sklearn/metrics/classification.py:1143: UndefinedMetricWarning: Precision and F-score are ill-defined and being set to 0.0 in labels with no predicted samples.\n",
      "  'precision', 'predicted', average, warn_for)\n",
      "/Users/nitya/miniconda3/lib/python3.6/site-packages/sklearn/metrics/classification.py:1143: UndefinedMetricWarning: Precision and F-score are ill-defined and being set to 0.0 in labels with no predicted samples.\n",
      "  'precision', 'predicted', average, warn_for)\n",
      "/Users/nitya/miniconda3/lib/python3.6/site-packages/sklearn/metrics/classification.py:1143: UndefinedMetricWarning: Precision and F-score are ill-defined and being set to 0.0 in labels with no predicted samples.\n",
      "  'precision', 'predicted', average, warn_for)\n"
     ]
    },
    {
     "name": "stdout",
     "output_type": "stream",
     "text": [
      "              precision    recall  f1-score   support\n",
      "\n",
      "           0       0.95      1.00      0.98     27379\n",
      "           1       0.00      0.00      0.00      1324\n",
      "\n",
      "   micro avg       0.95      0.95      0.95     28703\n",
      "   macro avg       0.48      0.50      0.49     28703\n",
      "weighted avg       0.91      0.95      0.93     28703\n",
      "\n",
      "[[27379     0]\n",
      " [ 1324     0]]\n",
      "              precision    recall  f1-score   support\n",
      "\n",
      "           0       0.95      1.00      0.98     27379\n",
      "           1       0.00      0.00      0.00      1324\n",
      "\n",
      "   micro avg       0.95      0.95      0.95     28703\n",
      "   macro avg       0.48      0.50      0.49     28703\n",
      "weighted avg       0.91      0.95      0.93     28703\n",
      "\n",
      "[[27378     1]\n",
      " [ 1324     0]]\n",
      "              precision    recall  f1-score   support\n",
      "\n",
      "           0       0.95      1.00      0.98     27379\n",
      "           1       0.00      0.00      0.00      1324\n",
      "\n",
      "   micro avg       0.95      0.95      0.95     28703\n",
      "   macro avg       0.48      0.50      0.49     28703\n",
      "weighted avg       0.91      0.95      0.93     28703\n",
      "\n",
      "[[27375     4]\n",
      " [ 1324     0]]\n",
      "              precision    recall  f1-score   support\n",
      "\n",
      "           0       0.95      1.00      0.98     27379\n",
      "           1       0.07      0.00      0.00      1324\n",
      "\n",
      "   micro avg       0.95      0.95      0.95     28703\n",
      "   macro avg       0.51      0.50      0.49     28703\n",
      "weighted avg       0.91      0.95      0.93     28703\n",
      "\n",
      "[[27365    14]\n",
      " [ 1323     1]]\n",
      "              precision    recall  f1-score   support\n",
      "\n",
      "           0       0.95      1.00      0.98     27379\n",
      "           1       0.08      0.00      0.00      1324\n",
      "\n",
      "   micro avg       0.95      0.95      0.95     28703\n",
      "   macro avg       0.52      0.50      0.49     28703\n",
      "weighted avg       0.91      0.95      0.93     28703\n",
      "\n",
      "[[27368    11]\n",
      " [ 1323     1]]\n",
      "              precision    recall  f1-score   support\n",
      "\n",
      "           0       0.95      1.00      0.98     27379\n",
      "           1       0.09      0.00      0.00      1324\n",
      "\n",
      "   micro avg       0.95      0.95      0.95     28703\n",
      "   macro avg       0.52      0.50      0.49     28703\n",
      "weighted avg       0.91      0.95      0.93     28703\n",
      "\n",
      "[[27359    20]\n",
      " [ 1322     2]]\n",
      "              precision    recall  f1-score   support\n",
      "\n",
      "           0       0.95      1.00      0.98     27379\n",
      "           1       0.15      0.01      0.01      1324\n",
      "\n",
      "   micro avg       0.95      0.95      0.95     28703\n",
      "   macro avg       0.55      0.50      0.49     28703\n",
      "weighted avg       0.92      0.95      0.93     28703\n",
      "\n",
      "[[27339    40]\n",
      " [ 1317     7]]\n",
      "              precision    recall  f1-score   support\n",
      "\n",
      "           0       0.95      1.00      0.98     27379\n",
      "           1       0.16      0.01      0.02      1324\n",
      "\n",
      "   micro avg       0.95      0.95      0.95     28703\n",
      "   macro avg       0.56      0.50      0.50     28703\n",
      "weighted avg       0.92      0.95      0.93     28703\n",
      "\n",
      "[[27315    64]\n",
      " [ 1312    12]]\n",
      "              precision    recall  f1-score   support\n",
      "\n",
      "           0       0.95      1.00      0.98     27379\n",
      "           1       0.14      0.01      0.02      1324\n",
      "\n",
      "   micro avg       0.95      0.95      0.95     28703\n",
      "   macro avg       0.55      0.50      0.50     28703\n",
      "weighted avg       0.92      0.95      0.93     28703\n",
      "\n",
      "[[27299    80]\n",
      " [ 1311    13]]\n",
      "              precision    recall  f1-score   support\n",
      "\n",
      "           0       0.95      0.99      0.97     27379\n",
      "           1       0.17      0.02      0.04      1324\n",
      "\n",
      "   micro avg       0.95      0.95      0.95     28703\n",
      "   macro avg       0.56      0.51      0.51     28703\n",
      "weighted avg       0.92      0.95      0.93     28703\n",
      "\n",
      "[[27241   138]\n",
      " [ 1296    28]]\n",
      "              precision    recall  f1-score   support\n",
      "\n",
      "           0       0.95      0.99      0.97     27379\n",
      "           1       0.16      0.02      0.04      1324\n",
      "\n",
      "   micro avg       0.95      0.95      0.95     28703\n",
      "   macro avg       0.56      0.51      0.51     28703\n",
      "weighted avg       0.92      0.95      0.93     28703\n",
      "\n",
      "[[27209   170]\n",
      " [ 1291    33]]\n",
      "              precision    recall  f1-score   support\n",
      "\n",
      "           0       0.96      0.99      0.97     27379\n",
      "           1       0.17      0.04      0.06      1324\n",
      "\n",
      "   micro avg       0.95      0.95      0.95     28703\n",
      "   macro avg       0.56      0.51      0.52     28703\n",
      "weighted avg       0.92      0.95      0.93     28703\n",
      "\n",
      "[[27147   232]\n",
      " [ 1277    47]]\n",
      "              precision    recall  f1-score   support\n",
      "\n",
      "           0       0.96      0.99      0.97     27379\n",
      "           1       0.17      0.04      0.06      1324\n",
      "\n",
      "   micro avg       0.95      0.95      0.95     28703\n",
      "   macro avg       0.56      0.51      0.52     28703\n",
      "weighted avg       0.92      0.95      0.93     28703\n",
      "\n",
      "[[27118   261]\n",
      " [ 1272    52]]\n",
      "              precision    recall  f1-score   support\n",
      "\n",
      "           0       0.96      0.99      0.97     27379\n",
      "           1       0.17      0.06      0.09      1324\n",
      "\n",
      "   micro avg       0.94      0.94      0.94     28703\n",
      "   macro avg       0.56      0.52      0.53     28703\n",
      "weighted avg       0.92      0.94      0.93     28703\n",
      "\n",
      "[[27020   359]\n",
      " [ 1249    75]]\n",
      "              precision    recall  f1-score   support\n",
      "\n",
      "           0       0.96      0.98      0.97     27379\n",
      "           1       0.17      0.07      0.10      1324\n",
      "\n",
      "   micro avg       0.94      0.94      0.94     28703\n",
      "   macro avg       0.56      0.53      0.53     28703\n",
      "weighted avg       0.92      0.94      0.93     28703\n",
      "\n",
      "[[26934   445]\n",
      " [ 1232    92]]\n",
      "              precision    recall  f1-score   support\n",
      "\n",
      "           0       0.96      0.98      0.97     27379\n",
      "           1       0.15      0.07      0.09      1324\n",
      "\n",
      "   micro avg       0.94      0.94      0.94     28703\n",
      "   macro avg       0.55      0.53      0.53     28703\n",
      "weighted avg       0.92      0.94      0.93     28703\n",
      "\n",
      "[[26858   521]\n",
      " [ 1232    92]]\n",
      "              precision    recall  f1-score   support\n",
      "\n",
      "           0       0.96      0.98      0.97     27379\n",
      "           1       0.15      0.08      0.10      1324\n",
      "\n",
      "   micro avg       0.94      0.94      0.94     28703\n",
      "   macro avg       0.55      0.53      0.54     28703\n",
      "weighted avg       0.92      0.94      0.93     28703\n",
      "\n",
      "[[26786   593]\n",
      " [ 1219   105]]\n",
      "              precision    recall  f1-score   support\n",
      "\n",
      "           0       0.96      0.98      0.97     27379\n",
      "           1       0.14      0.08      0.10      1324\n",
      "\n",
      "   micro avg       0.93      0.93      0.93     28703\n",
      "   macro avg       0.55      0.53      0.53     28703\n",
      "weighted avg       0.92      0.93      0.93     28703\n",
      "\n",
      "[[26720   659]\n",
      " [ 1220   104]]\n",
      "              precision    recall  f1-score   support\n",
      "\n",
      "           0       0.96      0.97      0.97     27379\n",
      "           1       0.14      0.09      0.11      1324\n",
      "\n",
      "   micro avg       0.93      0.93      0.93     28703\n",
      "   macro avg       0.55      0.53      0.54     28703\n",
      "weighted avg       0.92      0.93      0.93     28703\n",
      "\n",
      "[[26670   709]\n",
      " [ 1210   114]]\n",
      "              precision    recall  f1-score   support\n",
      "\n",
      "           0       0.96      0.97      0.96     27379\n",
      "           1       0.14      0.09      0.11      1324\n",
      "\n",
      "   micro avg       0.93      0.93      0.93     28703\n",
      "   macro avg       0.55      0.53      0.54     28703\n",
      "weighted avg       0.92      0.93      0.93     28703\n",
      "\n",
      "[[26613   766]\n",
      " [ 1200   124]]\n",
      "              precision    recall  f1-score   support\n",
      "\n",
      "           0       0.96      0.97      0.96     27379\n",
      "           1       0.14      0.10      0.11      1324\n",
      "\n",
      "   micro avg       0.93      0.93      0.93     28703\n",
      "   macro avg       0.55      0.53      0.54     28703\n",
      "weighted avg       0.92      0.93      0.92     28703\n",
      "\n",
      "[[26569   810]\n",
      " [ 1196   128]]\n",
      "              precision    recall  f1-score   support\n",
      "\n",
      "           0       0.96      0.97      0.96     27379\n",
      "           1       0.13      0.10      0.11      1324\n",
      "\n",
      "   micro avg       0.93      0.93      0.93     28703\n",
      "   macro avg       0.54      0.53      0.54     28703\n",
      "weighted avg       0.92      0.93      0.92     28703\n",
      "\n",
      "[[26523   856]\n",
      " [ 1194   130]]\n",
      "              precision    recall  f1-score   support\n",
      "\n",
      "           0       0.96      0.97      0.96     27379\n",
      "           1       0.13      0.10      0.11      1324\n",
      "\n",
      "   micro avg       0.93      0.93      0.93     28703\n",
      "   macro avg       0.54      0.53      0.54     28703\n",
      "weighted avg       0.92      0.93      0.92     28703\n",
      "\n",
      "[[26495   884]\n",
      " [ 1190   134]]\n"
     ]
    },
    {
     "name": "stdout",
     "output_type": "stream",
     "text": [
      "              precision    recall  f1-score   support\n",
      "\n",
      "           0       0.96      0.97      0.96     27379\n",
      "           1       0.13      0.10      0.11      1324\n",
      "\n",
      "   micro avg       0.93      0.93      0.93     28703\n",
      "   macro avg       0.54      0.53      0.54     28703\n",
      "weighted avg       0.92      0.93      0.92     28703\n",
      "\n",
      "[[26487   892]\n",
      " [ 1195   129]]\n",
      "              precision    recall  f1-score   support\n",
      "\n",
      "           0       0.96      0.97      0.96     27379\n",
      "           1       0.13      0.10      0.12      1324\n",
      "\n",
      "   micro avg       0.93      0.93      0.93     28703\n",
      "   macro avg       0.55      0.54      0.54     28703\n",
      "weighted avg       0.92      0.93      0.92     28703\n",
      "\n",
      "[[26477   902]\n",
      " [ 1185   139]]\n",
      "              precision    recall  f1-score   support\n",
      "\n",
      "           0       0.96      0.97      0.96     27379\n",
      "           1       0.13      0.11      0.12      1324\n",
      "\n",
      "   micro avg       0.93      0.93      0.93     28703\n",
      "   macro avg       0.55      0.54      0.54     28703\n",
      "weighted avg       0.92      0.93      0.92     28703\n",
      "\n",
      "[[26464   915]\n",
      " [ 1182   142]]\n",
      "              precision    recall  f1-score   support\n",
      "\n",
      "           0       0.96      0.97      0.96     27379\n",
      "           1       0.14      0.11      0.12      1324\n",
      "\n",
      "   micro avg       0.93      0.93      0.93     28703\n",
      "   macro avg       0.55      0.54      0.54     28703\n",
      "weighted avg       0.92      0.93      0.92     28703\n",
      "\n",
      "[[26449   930]\n",
      " [ 1176   148]]\n",
      "              precision    recall  f1-score   support\n",
      "\n",
      "           0       0.96      0.97      0.96     27379\n",
      "           1       0.14      0.11      0.12      1324\n",
      "\n",
      "   micro avg       0.93      0.93      0.93     28703\n",
      "   macro avg       0.55      0.54      0.54     28703\n",
      "weighted avg       0.92      0.93      0.92     28703\n",
      "\n",
      "[[26445   934]\n",
      " [ 1174   150]]\n"
     ]
    }
   ],
   "source": [
    "from sklearn.metrics import roc_curve, auc\n",
    "\n",
    "max_depths = np.linspace(1, 32, 32, endpoint=True)\n",
    "train_results = []\n",
    "test_results = []\n",
    "for max_depth in max_depths:\n",
    "   dt = DecisionTreeClassifier(max_depth=max_depth)\n",
    "   dt.fit(X_train, y_train)\n",
    "   train_pred = dt.predict(X_train)\n",
    "   false_positive_rate, true_positive_rate, thresholds = roc_curve(y_train, train_pred)\n",
    "   roc_auc = auc(false_positive_rate, true_positive_rate)\n",
    "   # Add auc score to previous train results\n",
    "   train_results.append(roc_auc)\n",
    "   y_pred = dt.predict(X_test)\n",
    "   false_positive_rate, true_positive_rate, thresholds = roc_curve(y_test, y_pred)\n",
    "   roc_auc = auc(false_positive_rate, true_positive_rate)\n",
    "   # Add auc score to previous test result\n",
    "   print(classification_report(y_test, y_pred)) \n",
    "   test_results.append(roc_auc)\n",
    "   print(confusion_matrix(y_test, y_pred))"
   ]
  },
  {
   "cell_type": "code",
   "execution_count": 9,
   "metadata": {},
   "outputs": [
    {
     "data": {
      "text/plain": [
       "[0.5,\n",
       " 0.5,\n",
       " 0.5,\n",
       " 0.49998173782826255,\n",
       " 0.5002863326458444,\n",
       " 0.5014010009877021,\n",
       " 0.5013462144724897,\n",
       " 0.5034659781257803,\n",
       " 0.5045075977806882,\n",
       " 0.5095148121661153,\n",
       " 0.509155430833321,\n",
       " 0.5134438825531598,\n",
       " 0.5185117455557543,\n",
       " 0.5174518637291089,\n",
       " 0.5174277394554165,\n",
       " 0.5224166916691062,\n",
       " 0.5205591363879675,\n",
       " 0.5234283249483666,\n",
       " 0.5266875570830798,\n",
       " 0.5262916514068107,\n",
       " 0.5272426360689036,\n",
       " 0.531177568557903,\n",
       " 0.5303740330014547,\n",
       " 0.5293206891426367,\n",
       " 0.5329086403686244,\n",
       " 0.53259885931496,\n",
       " 0.5330195651307942,\n",
       " 0.5349573829325825,\n",
       " 0.5359083675946755,\n",
       " 0.5370295739043608,\n",
       " 0.5369696011530658,\n",
       " 0.5371770230100054]"
      ]
     },
     "execution_count": 9,
     "metadata": {},
     "output_type": "execute_result"
    }
   ],
   "source": [
    "test_results"
   ]
  },
  {
   "cell_type": "code",
   "execution_count": 48,
   "metadata": {},
   "outputs": [
    {
     "name": "stdout",
     "output_type": "stream",
     "text": [
      "              precision    recall  f1-score   support\n",
      "\n",
      "           0       0.95      0.98      0.97     27379\n",
      "           1       0.10      0.04      0.05      1324\n",
      "\n",
      "   micro avg       0.94      0.94      0.94     28703\n",
      "   macro avg       0.53      0.51      0.51     28703\n",
      "weighted avg       0.92      0.94      0.93     28703\n",
      "\n",
      "[[26941   438]\n",
      " [ 1275    49]]\n"
     ]
    }
   ],
   "source": [
    "rfc = RandomForestClassifier()\n",
    "\n",
    "rfc.fit(X_train, y_train)\n",
    "y_pred = rfc.predict(X_test)\n",
    "print(classification_report(y_test, y_pred))\n",
    "print(confusion_matrix(y_test, y_pred))"
   ]
  },
  {
   "cell_type": "code",
   "execution_count": 52,
   "metadata": {},
   "outputs": [
    {
     "data": {
      "text/plain": [
       "RandomForestClassifier(bootstrap=True, class_weight=None, criterion='gini',\n",
       "            max_depth=None, max_features='auto', max_leaf_nodes=None,\n",
       "            min_impurity_decrease=0.0, min_impurity_split=None,\n",
       "            min_samples_leaf=1, min_samples_split=2,\n",
       "            min_weight_fraction_leaf=0.0, n_estimators=10, n_jobs=None,\n",
       "            oob_score=False, random_state=None, verbose=0,\n",
       "            warm_start=False)"
      ]
     },
     "execution_count": 52,
     "metadata": {},
     "output_type": "execute_result"
    }
   ],
   "source": [
    "sm = SMOTE(random_state=12, ratio = 1)\n",
    "x_train_res, y_train_res = sm.fit_sample(X_train, y_train)\n",
    "# Train a logistic regression model on the upsampled training data.\n",
    "sm_rfc = RandomForestClassifier()\n",
    "sm_rfc.fit(x_train_res, y_train_res)"
   ]
  },
  {
   "cell_type": "code",
   "execution_count": 53,
   "metadata": {},
   "outputs": [
    {
     "data": {
      "text/plain": [
       "(109582, 109582)"
      ]
     },
     "execution_count": 53,
     "metadata": {},
     "output_type": "execute_result"
    }
   ],
   "source": [
    "len(y_train_res[y_train_res==1]),len(y_train_res[y_train_res==0])"
   ]
  },
  {
   "cell_type": "code",
   "execution_count": 54,
   "metadata": {},
   "outputs": [
    {
     "name": "stdout",
     "output_type": "stream",
     "text": [
      "              precision    recall  f1-score   support\n",
      "\n",
      "           0       0.96      0.89      0.92     27379\n",
      "           1       0.06      0.16      0.09      1324\n",
      "\n",
      "   micro avg       0.85      0.85      0.85     28703\n",
      "   macro avg       0.51      0.52      0.51     28703\n",
      "weighted avg       0.92      0.85      0.88     28703\n",
      "\n",
      "[[24248  3131]\n",
      " [ 1108   216]]\n"
     ]
    }
   ],
   "source": [
    "test_pred = sm_rfc.predict(X_test)\n",
    "print(classification_report(y_test, test_pred))\n",
    "print(confusion_matrix(y_test, test_pred))"
   ]
  },
  {
   "cell_type": "code",
   "execution_count": 55,
   "metadata": {},
   "outputs": [
    {
     "data": {
      "text/plain": [
       "0.8523150890150856"
      ]
     },
     "execution_count": 55,
     "metadata": {},
     "output_type": "execute_result"
    }
   ],
   "source": [
    "accuracy_score(y_test, test_pred)"
   ]
  },
  {
   "cell_type": "code",
   "execution_count": 56,
   "metadata": {},
   "outputs": [
    {
     "data": {
      "text/plain": [
       "0.16314199395770393"
      ]
     },
     "execution_count": 56,
     "metadata": {},
     "output_type": "execute_result"
    }
   ],
   "source": [
    "recall_score(y_test, test_pred)"
   ]
  },
  {
   "cell_type": "code",
   "execution_count": 57,
   "metadata": {},
   "outputs": [
    {
     "data": {
      "text/plain": [
       "0.09248554913294797"
      ]
     },
     "execution_count": 57,
     "metadata": {},
     "output_type": "execute_result"
    }
   ],
   "source": [
    "f1_score(y_test,test_pred)"
   ]
  },
  {
   "cell_type": "code",
   "execution_count": 58,
   "metadata": {},
   "outputs": [
    {
     "data": {
      "text/plain": [
       "0.06453540484015537"
      ]
     },
     "execution_count": 58,
     "metadata": {},
     "output_type": "execute_result"
    }
   ],
   "source": [
    " precision_score(y_test,test_pred)"
   ]
  },
  {
   "cell_type": "code",
   "execution_count": 59,
   "metadata": {},
   "outputs": [
    {
     "name": "stdout",
     "output_type": "stream",
     "text": [
      "              precision    recall  f1-score   support\n",
      "\n",
      "           0       0.95      1.00      0.98     27379\n",
      "           1       0.00      0.00      0.00      1324\n",
      "\n",
      "   micro avg       0.95      0.95      0.95     28703\n",
      "   macro avg       0.48      0.50      0.49     28703\n",
      "weighted avg       0.91      0.95      0.93     28703\n",
      "\n",
      "[[27378     1]\n",
      " [ 1324     0]]\n"
     ]
    }
   ],
   "source": [
    "gbc = GradientBoostingClassifier()\n",
    "\n",
    "gbc.fit(X_train, y_train)\n",
    "y_pred = gbc.predict(X_test)\n",
    "print(classification_report(y_test, y_pred))\n",
    "print(confusion_matrix(y_test, y_pred))"
   ]
  },
  {
   "cell_type": "code",
   "execution_count": 71,
   "metadata": {},
   "outputs": [
    {
     "data": {
      "text/plain": [
       "AdaBoostClassifier(algorithm='SAMME.R', base_estimator=None,\n",
       "          learning_rate=1.0, n_estimators=50, random_state=None)"
      ]
     },
     "execution_count": 71,
     "metadata": {},
     "output_type": "execute_result"
    }
   ],
   "source": [
    "sm = SMOTE(random_state=42, ratio = 0.5)\n",
    "x_train_res, y_train_res = sm.fit_sample(X_train, y_train)\n",
    "# Train a logistic regression model on the upsampled training data.\n",
    "sm_gbc = AdaBoostClassifier()\n",
    "sm_gbc.fit(x_train_res, y_train_res)"
   ]
  },
  {
   "cell_type": "code",
   "execution_count": 72,
   "metadata": {},
   "outputs": [
    {
     "name": "stdout",
     "output_type": "stream",
     "text": [
      "              precision    recall  f1-score   support\n",
      "\n",
      "           0       0.96      0.97      0.96     27379\n",
      "           1       0.22      0.20      0.21      1324\n",
      "\n",
      "   micro avg       0.93      0.93      0.93     28703\n",
      "   macro avg       0.59      0.58      0.59     28703\n",
      "weighted avg       0.93      0.93      0.93     28703\n",
      "\n",
      "[[26421   958]\n",
      " [ 1060   264]]\n"
     ]
    }
   ],
   "source": [
    "test_pred = sm_gbc.predict(X_test)\n",
    "print(classification_report(y_test, test_pred))\n",
    "print(confusion_matrix(y_test, test_pred))"
   ]
  },
  {
   "cell_type": "code",
   "execution_count": 73,
   "metadata": {},
   "outputs": [],
   "source": [
    "from sklearn.naive_bayes import GaussianNB"
   ]
  },
  {
   "cell_type": "code",
   "execution_count": 74,
   "metadata": {},
   "outputs": [],
   "source": [
    "gnb = GaussianNB()"
   ]
  },
  {
   "cell_type": "code",
   "execution_count": 75,
   "metadata": {},
   "outputs": [
    {
     "name": "stdout",
     "output_type": "stream",
     "text": [
      "              precision    recall  f1-score   support\n",
      "\n",
      "           0       0.95      0.99      0.97     27379\n",
      "           1       0.03      0.00      0.01      1324\n",
      "\n",
      "   micro avg       0.95      0.95      0.95     28703\n",
      "   macro avg       0.49      0.50      0.49     28703\n",
      "weighted avg       0.91      0.95      0.93     28703\n",
      "\n",
      "[[27225   154]\n",
      " [ 1319     5]]\n"
     ]
    }
   ],
   "source": [
    "gnb.fit(X_train, y_train)\n",
    "y_pred = gnb.predict(X_test)\n",
    "print(classification_report(y_test, y_pred))\n",
    "print(confusion_matrix(y_test, y_pred))"
   ]
  },
  {
   "cell_type": "code",
   "execution_count": 76,
   "metadata": {},
   "outputs": [
    {
     "data": {
      "text/plain": [
       "GaussianNB(priors=None, var_smoothing=1e-09)"
      ]
     },
     "execution_count": 76,
     "metadata": {},
     "output_type": "execute_result"
    }
   ],
   "source": [
    "sm = SMOTE(random_state=42, ratio = 0.5)\n",
    "x_train_res, y_train_res = sm.fit_sample(X_train, y_train)\n",
    "# Train a logistic regression model on the upsampled training data.\n",
    "sm_gnb = GaussianNB()\n",
    "sm_gnb.fit(x_train_res, y_train_res)"
   ]
  },
  {
   "cell_type": "code",
   "execution_count": 77,
   "metadata": {},
   "outputs": [
    {
     "name": "stdout",
     "output_type": "stream",
     "text": [
      "              precision    recall  f1-score   support\n",
      "\n",
      "           0       0.95      1.00      0.98     27379\n",
      "           1       0.00      0.00      0.00      1324\n",
      "\n",
      "   micro avg       0.95      0.95      0.95     28703\n",
      "   macro avg       0.48      0.50      0.49     28703\n",
      "weighted avg       0.91      0.95      0.93     28703\n",
      "\n",
      "[[27379     0]\n",
      " [ 1324     0]]\n"
     ]
    },
    {
     "name": "stderr",
     "output_type": "stream",
     "text": [
      "/Users/nitya/miniconda3/lib/python3.6/site-packages/sklearn/metrics/classification.py:1143: UndefinedMetricWarning: Precision and F-score are ill-defined and being set to 0.0 in labels with no predicted samples.\n",
      "  'precision', 'predicted', average, warn_for)\n",
      "/Users/nitya/miniconda3/lib/python3.6/site-packages/sklearn/metrics/classification.py:1143: UndefinedMetricWarning: Precision and F-score are ill-defined and being set to 0.0 in labels with no predicted samples.\n",
      "  'precision', 'predicted', average, warn_for)\n",
      "/Users/nitya/miniconda3/lib/python3.6/site-packages/sklearn/metrics/classification.py:1143: UndefinedMetricWarning: Precision and F-score are ill-defined and being set to 0.0 in labels with no predicted samples.\n",
      "  'precision', 'predicted', average, warn_for)\n"
     ]
    }
   ],
   "source": [
    "test_pred = sm_gnb.predict(X_test)\n",
    "print(classification_report(y_test, test_pred))\n",
    "print(confusion_matrix(y_test, test_pred))"
   ]
  },
  {
   "cell_type": "code",
   "execution_count": null,
   "metadata": {},
   "outputs": [],
   "source": []
  }
 ],
 "metadata": {
  "kernelspec": {
   "display_name": "Python 3",
   "language": "python",
   "name": "python3"
  },
  "language_info": {
   "codemirror_mode": {
    "name": "ipython",
    "version": 3
   },
   "file_extension": ".py",
   "mimetype": "text/x-python",
   "name": "python",
   "nbconvert_exporter": "python",
   "pygments_lexer": "ipython3",
   "version": "3.6.8"
  }
 },
 "nbformat": 4,
 "nbformat_minor": 2
}
